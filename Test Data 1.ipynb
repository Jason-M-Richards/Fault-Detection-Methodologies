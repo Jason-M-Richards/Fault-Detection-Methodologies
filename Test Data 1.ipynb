{
 "cells": [
  {
   "cell_type": "code",
   "execution_count": null,
   "metadata": {},
   "outputs": [],
   "source": []
  },
  {
   "cell_type": "code",
   "execution_count": 1,
   "metadata": {
    "scrolled": true
   },
   "outputs": [
    {
     "data": {
      "text/html": [
       "<div>\n",
       "<style scoped>\n",
       "    .dataframe tbody tr th:only-of-type {\n",
       "        vertical-align: middle;\n",
       "    }\n",
       "\n",
       "    .dataframe tbody tr th {\n",
       "        vertical-align: top;\n",
       "    }\n",
       "\n",
       "    .dataframe thead th {\n",
       "        text-align: right;\n",
       "    }\n",
       "</style>\n",
       "<table border=\"1\" class=\"dataframe\">\n",
       "  <thead>\n",
       "    <tr style=\"text-align: right;\">\n",
       "      <th></th>\n",
       "      <th>0</th>\n",
       "      <th>1</th>\n",
       "      <th>2</th>\n",
       "      <th>3</th>\n",
       "      <th>4</th>\n",
       "      <th>5</th>\n",
       "      <th>6</th>\n",
       "      <th>7</th>\n",
       "      <th>8</th>\n",
       "      <th>9</th>\n",
       "      <th>...</th>\n",
       "      <th>590</th>\n",
       "      <th>591</th>\n",
       "      <th>592</th>\n",
       "      <th>593</th>\n",
       "      <th>594</th>\n",
       "      <th>595</th>\n",
       "      <th>596</th>\n",
       "      <th>597</th>\n",
       "      <th>598</th>\n",
       "      <th>599</th>\n",
       "    </tr>\n",
       "  </thead>\n",
       "  <tbody>\n",
       "    <tr>\n",
       "      <th>0</th>\n",
       "      <td>47.202</td>\n",
       "      <td>47.273</td>\n",
       "      <td>47.250</td>\n",
       "      <td>47.332</td>\n",
       "      <td>47.213</td>\n",
       "      <td>47.372</td>\n",
       "      <td>47.273</td>\n",
       "      <td>47.438</td>\n",
       "      <td>46.691</td>\n",
       "      <td>46.599</td>\n",
       "      <td>...</td>\n",
       "      <td>10.413</td>\n",
       "      <td>10.399</td>\n",
       "      <td>10.397</td>\n",
       "      <td>10.384</td>\n",
       "      <td>10.401</td>\n",
       "      <td>10.407</td>\n",
       "      <td>10.395</td>\n",
       "      <td>10.374</td>\n",
       "      <td>10.379</td>\n",
       "      <td>10.373</td>\n",
       "    </tr>\n",
       "    <tr>\n",
       "      <th>1</th>\n",
       "      <td>29.208</td>\n",
       "      <td>28.822</td>\n",
       "      <td>28.805</td>\n",
       "      <td>28.922</td>\n",
       "      <td>28.591</td>\n",
       "      <td>28.643</td>\n",
       "      <td>28.216</td>\n",
       "      <td>27.812</td>\n",
       "      <td>27.514</td>\n",
       "      <td>27.481</td>\n",
       "      <td>...</td>\n",
       "      <td>10.438</td>\n",
       "      <td>10.411</td>\n",
       "      <td>10.419</td>\n",
       "      <td>10.414</td>\n",
       "      <td>10.407</td>\n",
       "      <td>10.391</td>\n",
       "      <td>10.427</td>\n",
       "      <td>10.411</td>\n",
       "      <td>10.434</td>\n",
       "      <td>10.391</td>\n",
       "    </tr>\n",
       "    <tr>\n",
       "      <th>2</th>\n",
       "      <td>23.554</td>\n",
       "      <td>23.521</td>\n",
       "      <td>23.527</td>\n",
       "      <td>23.008</td>\n",
       "      <td>23.042</td>\n",
       "      <td>23.052</td>\n",
       "      <td>22.658</td>\n",
       "      <td>22.952</td>\n",
       "      <td>22.908</td>\n",
       "      <td>22.359</td>\n",
       "      <td>...</td>\n",
       "      <td>10.320</td>\n",
       "      <td>10.352</td>\n",
       "      <td>10.356</td>\n",
       "      <td>10.336</td>\n",
       "      <td>10.338</td>\n",
       "      <td>10.327</td>\n",
       "      <td>10.337</td>\n",
       "      <td>10.350</td>\n",
       "      <td>10.356</td>\n",
       "      <td>10.356</td>\n",
       "    </tr>\n",
       "    <tr>\n",
       "      <th>3</th>\n",
       "      <td>21.540</td>\n",
       "      <td>21.419</td>\n",
       "      <td>21.565</td>\n",
       "      <td>20.857</td>\n",
       "      <td>21.052</td>\n",
       "      <td>21.039</td>\n",
       "      <td>20.926</td>\n",
       "      <td>20.912</td>\n",
       "      <td>20.989</td>\n",
       "      <td>20.882</td>\n",
       "      <td>...</td>\n",
       "      <td>10.299</td>\n",
       "      <td>10.296</td>\n",
       "      <td>10.283</td>\n",
       "      <td>10.256</td>\n",
       "      <td>10.270</td>\n",
       "      <td>10.272</td>\n",
       "      <td>10.280</td>\n",
       "      <td>10.285</td>\n",
       "      <td>10.267</td>\n",
       "      <td>10.261</td>\n",
       "    </tr>\n",
       "    <tr>\n",
       "      <th>4</th>\n",
       "      <td>20.460</td>\n",
       "      <td>20.298</td>\n",
       "      <td>20.350</td>\n",
       "      <td>19.867</td>\n",
       "      <td>19.997</td>\n",
       "      <td>19.972</td>\n",
       "      <td>19.924</td>\n",
       "      <td>19.813</td>\n",
       "      <td>19.691</td>\n",
       "      <td>19.634</td>\n",
       "      <td>...</td>\n",
       "      <td>10.199</td>\n",
       "      <td>10.199</td>\n",
       "      <td>10.233</td>\n",
       "      <td>10.245</td>\n",
       "      <td>10.233</td>\n",
       "      <td>10.211</td>\n",
       "      <td>10.205</td>\n",
       "      <td>10.214</td>\n",
       "      <td>10.227</td>\n",
       "      <td>10.216</td>\n",
       "    </tr>\n",
       "  </tbody>\n",
       "</table>\n",
       "<p>5 rows × 43680 columns</p>\n",
       "</div>"
      ],
      "text/plain": [
       "      0       1       2       3       4       5       6       7       8    \\\n",
       "0  47.202  47.273  47.250  47.332  47.213  47.372  47.273  47.438  46.691   \n",
       "1  29.208  28.822  28.805  28.922  28.591  28.643  28.216  27.812  27.514   \n",
       "2  23.554  23.521  23.527  23.008  23.042  23.052  22.658  22.952  22.908   \n",
       "3  21.540  21.419  21.565  20.857  21.052  21.039  20.926  20.912  20.989   \n",
       "4  20.460  20.298  20.350  19.867  19.997  19.972  19.924  19.813  19.691   \n",
       "\n",
       "      9    ...     590     591     592     593     594     595     596  \\\n",
       "0  46.599  ...  10.413  10.399  10.397  10.384  10.401  10.407  10.395   \n",
       "1  27.481  ...  10.438  10.411  10.419  10.414  10.407  10.391  10.427   \n",
       "2  22.359  ...  10.320  10.352  10.356  10.336  10.338  10.327  10.337   \n",
       "3  20.882  ...  10.299  10.296  10.283  10.256  10.270  10.272  10.280   \n",
       "4  19.634  ...  10.199  10.199  10.233  10.245  10.233  10.211  10.205   \n",
       "\n",
       "      597     598     599  \n",
       "0  10.374  10.379  10.373  \n",
       "1  10.411  10.434  10.391  \n",
       "2  10.350  10.356  10.356  \n",
       "3  10.285  10.267  10.261  \n",
       "4  10.214  10.227  10.216  \n",
       "\n",
       "[5 rows x 43680 columns]"
      ]
     },
     "execution_count": 1,
     "metadata": {},
     "output_type": "execute_result"
    }
   ],
   "source": [
    "import pandas as pd\n",
    "import numpy as np\n",
    "group = []\n",
    "file = ['CE.txt', 'CP.txt','SE.txt', 'TS1.txt', 'TS2.txt', 'TS3.txt', 'TS4.txt', \\\n",
    "        'VS1.txt','EPS1.txt','PS1.txt','PS2.txt', 'PS3.txt', 'PS4.txt', 'PS5.txt', \\\n",
    "        'PS6.txt', 'FS1.txt', 'FS2.txt']\n",
    "for file in file:\n",
    "    group.append(pd.read_table(file, header=None))\n",
    "features = pd.concat(group, axis=1)\n",
    "features.head()"
   ]
  },
  {
   "cell_type": "code",
   "execution_count": 2,
   "metadata": {},
   "outputs": [
    {
     "data": {
      "text/html": [
       "<div>\n",
       "<style scoped>\n",
       "    .dataframe tbody tr th:only-of-type {\n",
       "        vertical-align: middle;\n",
       "    }\n",
       "\n",
       "    .dataframe tbody tr th {\n",
       "        vertical-align: top;\n",
       "    }\n",
       "\n",
       "    .dataframe thead th {\n",
       "        text-align: right;\n",
       "    }\n",
       "</style>\n",
       "<table border=\"1\" class=\"dataframe\">\n",
       "  <thead>\n",
       "    <tr style=\"text-align: right;\">\n",
       "      <th></th>\n",
       "      <th>0</th>\n",
       "      <th>1</th>\n",
       "      <th>2</th>\n",
       "      <th>3</th>\n",
       "      <th>4</th>\n",
       "    </tr>\n",
       "  </thead>\n",
       "  <tbody>\n",
       "    <tr>\n",
       "      <th>0</th>\n",
       "      <td>3</td>\n",
       "      <td>100</td>\n",
       "      <td>0</td>\n",
       "      <td>130</td>\n",
       "      <td>1</td>\n",
       "    </tr>\n",
       "    <tr>\n",
       "      <th>1</th>\n",
       "      <td>3</td>\n",
       "      <td>100</td>\n",
       "      <td>0</td>\n",
       "      <td>130</td>\n",
       "      <td>1</td>\n",
       "    </tr>\n",
       "    <tr>\n",
       "      <th>2</th>\n",
       "      <td>3</td>\n",
       "      <td>100</td>\n",
       "      <td>0</td>\n",
       "      <td>130</td>\n",
       "      <td>1</td>\n",
       "    </tr>\n",
       "    <tr>\n",
       "      <th>3</th>\n",
       "      <td>3</td>\n",
       "      <td>100</td>\n",
       "      <td>0</td>\n",
       "      <td>130</td>\n",
       "      <td>1</td>\n",
       "    </tr>\n",
       "    <tr>\n",
       "      <th>4</th>\n",
       "      <td>3</td>\n",
       "      <td>100</td>\n",
       "      <td>0</td>\n",
       "      <td>130</td>\n",
       "      <td>1</td>\n",
       "    </tr>\n",
       "  </tbody>\n",
       "</table>\n",
       "</div>"
      ],
      "text/plain": [
       "   0    1  2    3  4\n",
       "0  3  100  0  130  1\n",
       "1  3  100  0  130  1\n",
       "2  3  100  0  130  1\n",
       "3  3  100  0  130  1\n",
       "4  3  100  0  130  1"
      ]
     },
     "execution_count": 2,
     "metadata": {},
     "output_type": "execute_result"
    }
   ],
   "source": [
    "target = pd.read_table('profile.txt', header=None)\n",
    "target.head()"
   ]
  },
  {
   "cell_type": "code",
   "execution_count": 3,
   "metadata": {
    "scrolled": true
   },
   "outputs": [
    {
     "data": {
      "text/plain": [
       "<Figure size 2000x2000 with 18 Axes>"
      ]
     },
     "metadata": {},
     "output_type": "display_data"
    }
   ],
   "source": [
    "import matplotlib.pyplot as plt\n",
    "features[0].plot(figsize=(20,20), subplots=True, layout=(18,1));\n",
    "plt.show()"
   ]
  },
  {
   "cell_type": "code",
   "execution_count": 4,
   "metadata": {},
   "outputs": [
    {
     "data": {
      "text/plain": [
       "(2205, 43680)"
      ]
     },
     "execution_count": 4,
     "metadata": {},
     "output_type": "execute_result"
    }
   ],
   "source": [
    "features.shape"
   ]
  },
  {
   "cell_type": "code",
   "execution_count": 5,
   "metadata": {},
   "outputs": [
    {
     "data": {
      "text/plain": [
       "(2205, 5)"
      ]
     },
     "execution_count": 5,
     "metadata": {},
     "output_type": "execute_result"
    }
   ],
   "source": [
    "target.shape"
   ]
  },
  {
   "cell_type": "code",
   "execution_count": 6,
   "metadata": {},
   "outputs": [],
   "source": [
    "import random\n",
    "#separating our data into train, validation and test sets\n",
    "random.seed(123)\n",
    "val = features[:500]\n",
    "train_final = features[501:1800]\n",
    "label_val = target[:500]\n",
    "label_train_final = target[501:1800]\n",
    "test = features[1801:]\n",
    "label_test = target[1801:]"
   ]
  },
  {
   "cell_type": "code",
   "execution_count": 10,
   "metadata": {},
   "outputs": [],
   "source": [
    "import keras\n",
    "from keras import models, layers, optimizers, regularizers\n",
    "#designing the neural network\n",
    "model = models.Sequential()\n",
    "model.add(layers.Dense(100, activation='relu', kernel_regularizer=regularizers.l2(0.01), input_shape=(43680,))) #1st hidden layer\n",
    "model.add(layers.Dense(50, activation='relu'))#2nd hidden layer\n",
    "model.add(layers.Dense(25, activation='relu'))#3rd hidden layer\n",
    "model.add(layers.Dense(5, activation='softmax'))#output"
   ]
  },
  {
   "cell_type": "code",
   "execution_count": 11,
   "metadata": {},
   "outputs": [],
   "source": [
    "#compiling the model\n",
    "model.compile(optimizer='RMSprop',\n",
    "              loss='mse',\n",
    "              metrics=['accuracy'])"
   ]
  },
  {
   "cell_type": "code",
   "execution_count": 12,
   "metadata": {},
   "outputs": [
    {
     "name": "stdout",
     "output_type": "stream",
     "text": [
      "Train on 1299 samples, validate on 500 samples\n",
      "Epoch 1/20\n",
      "1299/1299 [==============================] - 3s 2ms/step - loss: 4364.2296 - acc: 0.5219 - val_loss: 4764.2817 - val_acc: 0.9780\n",
      "Epoch 2/20\n",
      "1299/1299 [==============================] - 2s 1ms/step - loss: 4362.8543 - acc: 0.5219 - val_loss: 4764.0034 - val_acc: 0.9780\n",
      "Epoch 3/20\n",
      "1299/1299 [==============================] - 2s 1ms/step - loss: 4362.6069 - acc: 0.5219 - val_loss: 4763.9243 - val_acc: 0.9780\n",
      "Epoch 4/20\n",
      "1299/1299 [==============================] - 2s 1ms/step - loss: 4362.5355 - acc: 0.5219 - val_loss: 4763.9004 - val_acc: 0.9780\n",
      "Epoch 5/20\n",
      "1299/1299 [==============================] - 2s 1ms/step - loss: 4362.5147 - acc: 0.5219 - val_loss: 4763.8936 - val_acc: 0.9780\n",
      "Epoch 6/20\n",
      "1299/1299 [==============================] - 2s 1ms/step - loss: 4371.8854 - acc: 0.4072 - val_loss: 4810.0635 - val_acc: 0.0000e+00\n",
      "Epoch 7/20\n",
      "1299/1299 [==============================] - 2s 1ms/step - loss: 4381.8205 - acc: 0.2340 - val_loss: 4764.0142 - val_acc: 0.9780\n",
      "Epoch 8/20\n",
      "1299/1299 [==============================] - 2s 1ms/step - loss: 4362.6286 - acc: 0.5219 - val_loss: 4764.0122 - val_acc: 0.9780\n",
      "Epoch 9/20\n",
      "1299/1299 [==============================] - 2s 1ms/step - loss: 4362.6273 - acc: 0.5219 - val_loss: 4764.0127 - val_acc: 0.9780\n",
      "Epoch 10/20\n",
      "1299/1299 [==============================] - 2s 1ms/step - loss: 4362.6277 - acc: 0.5219 - val_loss: 4764.0127 - val_acc: 0.9780\n",
      "Epoch 11/20\n",
      "1299/1299 [==============================] - 2s 1ms/step - loss: 4362.6272 - acc: 0.5219 - val_loss: 4764.0112 - val_acc: 0.9780\n",
      "Epoch 12/20\n",
      "1299/1299 [==============================] - 2s 1ms/step - loss: 4362.6260 - acc: 0.5219 - val_loss: 4764.0098 - val_acc: 0.9780\n",
      "Epoch 13/20\n",
      "1299/1299 [==============================] - 2s 1ms/step - loss: 4362.6244 - acc: 0.5219 - val_loss: 4764.0088 - val_acc: 0.9780\n",
      "Epoch 14/20\n",
      "1299/1299 [==============================] - 2s 1ms/step - loss: 4362.6235 - acc: 0.5219 - val_loss: 4764.0068 - val_acc: 0.9780\n",
      "Epoch 15/20\n",
      "1299/1299 [==============================] - 2s 1ms/step - loss: 4362.6213 - acc: 0.5219 - val_loss: 4764.0054 - val_acc: 0.9780\n",
      "Epoch 16/20\n",
      "1299/1299 [==============================] - 2s 1ms/step - loss: 4362.6200 - acc: 0.5219 - val_loss: 4764.0049 - val_acc: 0.9780\n",
      "Epoch 17/20\n",
      "1299/1299 [==============================] - 2s 1ms/step - loss: 4362.6192 - acc: 0.5219 - val_loss: 4764.0044 - val_acc: 0.9780\n",
      "Epoch 18/20\n",
      "1299/1299 [==============================] - 2s 1ms/step - loss: 4362.6194 - acc: 0.5219 - val_loss: 4764.0039 - val_acc: 0.9780\n",
      "Epoch 19/20\n",
      "1299/1299 [==============================] - 2s 1ms/step - loss: 4362.6185 - acc: 0.5219 - val_loss: 4764.0024 - val_acc: 0.9780\n",
      "Epoch 20/20\n",
      "1299/1299 [==============================] - 2s 1ms/step - loss: 4362.6172 - acc: 0.5219 - val_loss: 4764.0015 - val_acc: 0.9780\n"
     ]
    }
   ],
   "source": [
    "#saving our model as we fit it will allow us to pull attributes for visualizations\n",
    "history = model.fit(train_final,\n",
    "              label_train_final,\n",
    "              epochs=20,\n",
    "              batch_size=1000,\n",
    "              validation_data=(val, label_val))"
   ]
  },
  {
   "cell_type": "code",
   "execution_count": 13,
   "metadata": {},
   "outputs": [
    {
     "data": {
      "image/png": "[encoded data removed]",
      "text/plain": [
       "<Figure size 432x288 with 1 Axes>"
      ]
     },
     "metadata": {
      "needs_background": "light"
     },
     "output_type": "display_data"
    },
    {
     "data": {
      "image/png": "[encoded data removed]",
      "text/plain": [
       "<Figure size 432x288 with 1 Axes>"
      ]
     },
     "metadata": {
      "needs_background": "light"
     },
     "output_type": "display_data"
    }
   ],
   "source": [
    "# loss visualization\n",
    "history_dict = history.history\n",
    "\n",
    "loss_values = history_dict['loss']\n",
    "val_loss_values = history_dict['val_loss']\n",
    "\n",
    "epochs = range(1, len(loss_values) + 1)\n",
    "plt.plot(epochs, loss_values, 'g', label='Training loss')\n",
    "plt.plot(epochs, val_loss_values, 'blue', label='Validation loss')\n",
    "\n",
    "plt.title('Training & validation loss')\n",
    "plt.xlabel('Epochs')\n",
    "plt.ylabel('Loss')\n",
    "plt.legend()\n",
    "plt.show()\n",
    "\n",
    "#accuracy visualization\n",
    "acc_values = history_dict['acc'] \n",
    "val_acc_values = history_dict['val_acc']\n",
    "\n",
    "plt.plot(epochs, acc_values, 'r', label='Training acc')\n",
    "plt.plot(epochs, val_acc_values, 'blue', label='Validation acc')\n",
    "plt.title('Training & validation accuracy')\n",
    "plt.xlabel('Epochs')\n",
    "plt.ylabel('Loss')\n",
    "plt.legend()\n",
    "plt.show()"
   ]
  },
  {
   "cell_type": "code",
   "execution_count": null,
   "metadata": {},
   "outputs": [],
   "source": []
  },
  {
   "cell_type": "code",
   "execution_count": null,
   "metadata": {},
   "outputs": [],
   "source": []
  },
  {
   "cell_type": "code",
   "execution_count": null,
   "metadata": {},
   "outputs": [],
   "source": []
  },
  {
   "cell_type": "code",
   "execution_count": null,
   "metadata": {},
   "outputs": [],
   "source": []
  },
  {
   "cell_type": "code",
   "execution_count": null,
   "metadata": {},
   "outputs": [],
   "source": []
  },
  {
   "cell_type": "code",
   "execution_count": null,
   "metadata": {},
   "outputs": [],
   "source": []
  }
 ],
 "metadata": {
  "kernelspec": {
   "display_name": "learn-env",
   "language": "python",
   "name": "learn-env"
  },
  "language_info": {
   "codemirror_mode": {
    "name": "ipython",
    "version": 3
   },
   "file_extension": ".py",
   "mimetype": "text/x-python",
   "name": "python",
   "nbconvert_exporter": "python",
   "pygments_lexer": "ipython3",
   "version": "3.6.9"
  },
  "toc": {
   "base_numbering": 1,
   "nav_menu": {},
   "number_sections": true,
   "sideBar": true,
   "skip_h1_title": false,
   "title_cell": "Table of Contents",
   "title_sidebar": "Contents",
   "toc_cell": false,
   "toc_position": {},
   "toc_section_display": true,
   "toc_window_display": true
  }
 },
 "nbformat": 4,
 "nbformat_minor": 2
}
